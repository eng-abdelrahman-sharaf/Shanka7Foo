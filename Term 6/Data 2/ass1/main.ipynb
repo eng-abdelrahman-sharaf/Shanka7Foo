{
 "cells": [
  {
   "cell_type": "code",
   "execution_count": 3,
   "metadata": {},
   "outputs": [],
   "source": [
    "import random\n",
    "import time\n",
    "import matplotlib.pyplot as plt\n",
    "from selection_sort import selection_sort\n",
    "from insertion_sort import insertion_sort\n",
    "from bubble_sort import bubble_sort\n",
    "\n",
    "def compare_sorting_techniques(array_sizes):\n",
    "    times = [[],[],[]]\n",
    "    for array_size in array_sizes:\n",
    "        random_array = [random.randint(0,int(50)) for i in range(array_size)]\n",
    "        arr_1 = random_array.copy()\n",
    "        arr_2 = random_array.copy()\n",
    "        arr_3 = random_array.copy()\n",
    "        del random_array # free up memory\n",
    "        t1 = time.time()\n",
    "        arr_1 = selection_sort(arr_1)\n",
    "        t1 = time.time() - t1\n",
    "        t2 = time.time()\n",
    "        arr_2 = insertion_sort(arr_2)\n",
    "        t2 = time.time() - t2\n",
    "        t3 = time.time()\n",
    "        arr_3 = bubble_sort(arr_3)\n",
    "        t3 = time.time() - t3\n",
    "        if(not(arr_1 == arr_2 and arr_2 == arr_3)):\n",
    "            raise Exception(f\"Sorting techniques are not equal\\n\\\n",
    "                            arr 1 : {arr_1} \\n\\\n",
    "                            arr 2 : {arr_2} \\n\\\n",
    "                            arr 3 : {arr_3}\")\n",
    "        times[0].append(t1)\n",
    "        times[1].append(t2)\n",
    "        times[2].append(t3)\n",
    "    return times"
   ]
  },
  {
   "cell_type": "code",
   "execution_count": 4,
   "metadata": {},
   "outputs": [
    {
     "ename": "Exception",
     "evalue": "Sorting techniques are not equal\n                            arr 1 : None \n                            arr 2 : None \n                            arr 3 : [1, 4, 10, 12, 17, 18, 24, 34, 34, 43]",
     "output_type": "error",
     "traceback": [
      "\u001b[1;31m---------------------------------------------------------------------------\u001b[0m",
      "\u001b[1;31mException\u001b[0m                                 Traceback (most recent call last)",
      "Cell \u001b[1;32mIn[4], line 5\u001b[0m\n\u001b[0;32m      3\u001b[0m \u001b[38;5;66;03m# sizes = [int(i) for i in[10,100,1000,2e3 , 5e3 , 8e3 ,1e4, 2.5e4 , 3e4, 5e4]]\u001b[39;00m\n\u001b[0;32m      4\u001b[0m sizes \u001b[38;5;241m=\u001b[39m [\u001b[38;5;28mint\u001b[39m(i) \u001b[38;5;28;01mfor\u001b[39;00m i \u001b[38;5;129;01min\u001b[39;00m[\u001b[38;5;241m10\u001b[39m,\u001b[38;5;241m100\u001b[39m,\u001b[38;5;241m1000\u001b[39m,\u001b[38;5;241m2e3\u001b[39m , \u001b[38;5;241m5e3\u001b[39m , \u001b[38;5;241m8e3\u001b[39m]]\n\u001b[1;32m----> 5\u001b[0m times \u001b[38;5;241m=\u001b[39m \u001b[43mcompare_sorting_techniques\u001b[49m\u001b[43m(\u001b[49m\u001b[43msizes\u001b[49m\u001b[43m)\u001b[49m\n\u001b[0;32m      6\u001b[0m plt\u001b[38;5;241m.\u001b[39mylabel(\u001b[38;5;124m\"\u001b[39m\u001b[38;5;124mtime (s)\u001b[39m\u001b[38;5;124m\"\u001b[39m)\n\u001b[0;32m      7\u001b[0m plt\u001b[38;5;241m.\u001b[39mxlabel(\u001b[38;5;124m\"\u001b[39m\u001b[38;5;124msize of array\u001b[39m\u001b[38;5;124m\"\u001b[39m)\n",
      "Cell \u001b[1;32mIn[3], line 26\u001b[0m, in \u001b[0;36mcompare_sorting_techniques\u001b[1;34m(array_sizes)\u001b[0m\n\u001b[0;32m     24\u001b[0m t3 \u001b[38;5;241m=\u001b[39m time\u001b[38;5;241m.\u001b[39mtime() \u001b[38;5;241m-\u001b[39m t3\n\u001b[0;32m     25\u001b[0m \u001b[38;5;28;01mif\u001b[39;00m(\u001b[38;5;129;01mnot\u001b[39;00m(arr_1 \u001b[38;5;241m==\u001b[39m arr_2 \u001b[38;5;129;01mand\u001b[39;00m arr_2 \u001b[38;5;241m==\u001b[39m arr_3)):\n\u001b[1;32m---> 26\u001b[0m     \u001b[38;5;28;01mraise\u001b[39;00m \u001b[38;5;167;01mException\u001b[39;00m(\u001b[38;5;124mf\u001b[39m\u001b[38;5;124m\"\u001b[39m\u001b[38;5;124mSorting techniques are not equal\u001b[39m\u001b[38;5;130;01m\\n\u001b[39;00m\u001b[38;5;130;01m\\\u001b[39;00m\n\u001b[0;32m     27\u001b[0m \u001b[38;5;124m                    arr 1 : \u001b[39m\u001b[38;5;132;01m{\u001b[39;00marr_1\u001b[38;5;132;01m}\u001b[39;00m\u001b[38;5;124m \u001b[39m\u001b[38;5;130;01m\\n\u001b[39;00m\u001b[38;5;130;01m\\\u001b[39;00m\n\u001b[0;32m     28\u001b[0m \u001b[38;5;124m                    arr 2 : \u001b[39m\u001b[38;5;132;01m{\u001b[39;00marr_2\u001b[38;5;132;01m}\u001b[39;00m\u001b[38;5;124m \u001b[39m\u001b[38;5;130;01m\\n\u001b[39;00m\u001b[38;5;130;01m\\\u001b[39;00m\n\u001b[0;32m     29\u001b[0m \u001b[38;5;124m                    arr 3 : \u001b[39m\u001b[38;5;132;01m{\u001b[39;00marr_3\u001b[38;5;132;01m}\u001b[39;00m\u001b[38;5;124m\"\u001b[39m)\n\u001b[0;32m     30\u001b[0m times[\u001b[38;5;241m0\u001b[39m]\u001b[38;5;241m.\u001b[39mappend(t1)\n\u001b[0;32m     31\u001b[0m times[\u001b[38;5;241m1\u001b[39m]\u001b[38;5;241m.\u001b[39mappend(t2)\n",
      "\u001b[1;31mException\u001b[0m: Sorting techniques are not equal\n                            arr 1 : None \n                            arr 2 : None \n                            arr 3 : [1, 4, 10, 12, 17, 18, 24, 34, 34, 43]"
     ]
    },
    {
     "data": {
      "text/plain": [
       "<Figure size 640x480 with 0 Axes>"
      ]
     },
     "metadata": {},
     "output_type": "display_data"
    }
   ],
   "source": [
    "\n",
    "if __name__ == \"__main__\":\n",
    "    plt.figure()\n",
    "    # sizes = [int(i) for i in[10,100,1000,2e3 , 5e3 , 8e3 ,1e4, 2.5e4 , 3e4, 5e4]]\n",
    "    sizes = [int(i) for i in[10,100,1000,2e3 , 5e3 , 8e3]]\n",
    "    times = compare_sorting_techniques(sizes)\n",
    "    plt.ylabel(\"time (s)\")\n",
    "    plt.xlabel(\"size of array\")\n",
    "    plt.plot(sizes, times[0], label=\"Selection Sort\")\n",
    "    plt.plot(sizes, times[1], label=\"Insertion Sort\")\n",
    "    plt.plot(sizes, times[2], label=\"Bubble Sort\")\n",
    "    plt.legend()"
   ]
  },
  {
   "cell_type": "code",
   "execution_count": null,
   "metadata": {},
   "outputs": [],
   "source": []
  }
 ],
 "metadata": {
  "kernelspec": {
   "display_name": "Python 3",
   "language": "python",
   "name": "python3"
  },
  "language_info": {
   "codemirror_mode": {
    "name": "ipython",
    "version": 3
   },
   "file_extension": ".py",
   "mimetype": "text/x-python",
   "name": "python",
   "nbconvert_exporter": "python",
   "pygments_lexer": "ipython3",
   "version": "3.10.2"
  }
 },
 "nbformat": 4,
 "nbformat_minor": 2
}
